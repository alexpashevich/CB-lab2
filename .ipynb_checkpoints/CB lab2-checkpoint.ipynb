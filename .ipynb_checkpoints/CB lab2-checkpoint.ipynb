{
 "cells": [
  {
   "cell_type": "markdown",
   "metadata": {},
   "source": [
    "Problem 1\n",
    "========\n",
    "Question 1\n",
    "--------\n",
    "The change point $z$ tells us the place where the parameter $\\theta$ of the distribution changes. Given the distribution for each $p(y_i|z,\\theta)$ we can deduce the following formula for the whole distribution first for the case $z = 1$:\n",
    "\\begin{equation}\n",
    "    p(y|z = 1, \\theta) = \\prod_{i=1}^n \\theta_2^{y_i} (1 - \\theta_2)^{1 - y_i}.\n",
    "\\end{equation}\n",
    "Here we assume that every position in the sequence is independent from the rest. For the case of any given $z > 1$ we can write the following:\n",
    "\\begin{equation}\n",
    "    p(y|z, \\theta) = \\prod_{i=1}^{z-1} \\theta_1^{y_i} (1 - \\theta_1)^{1 - y_i} \\prod_{i=z}^n \\theta_2^{y_i} (1 - \\theta_2)^{1 - y_i}.\n",
    "\\end{equation}\n",
    "\n",
    "Question 2\n",
    "--------\n",
    "If we take logarithm of the deduced expression, we get a formula where summation is used instead the product:\n",
    "\\begin{equation}\n",
    "    \\log{p(y|z, \\theta)} = \\log{\\theta_1} * \\sum_{i=1}^{z-1}y_i + \\log{(1 - \\theta_1)} * \\sum_{i=1}^{z-1}{1 - y_i} + \\log{\\theta_2} * \\sum_{i=z}^{n}y_i + \\log{(1 - \\theta_2)} * \\sum_{i=z}^{n}{1 - y_i} = \\log{\\theta_1} * \\sum_{i=1}^{z-1}y_i + \\log{(1 - \\theta_1)} * (z - 1 + \\sum_{i=1}^{z-1}y_i) + \\log{\\theta_2} * \\sum_{i=z}^{n}y_i + \\log{(1 - \\theta_2)} * (n - z + 1 + \\sum_{i=z}^{n}y_i).\n",
    "\\end{equation}\n",
    "The last equation is obtained using the fact the sum of ones and zeros equal to the number of positions in the sequence.\n",
    "\n",
    "Question 3\n",
    "--------\n",
    "Using the definition of $R(z)$ from the document we can the Bayes formula and derive the following equation for $\\forall z = 2, \\ldots ,n$:\n",
    "\\begin{equation}\n",
    "    R(z) = \\frac{p(z|y,\\theta)}{p(z = 1|y,\\theta)} = \\frac{p(y,\\theta|z) * p(z) * p(y,\\theta)}{p(y,\\theta|z=1) * p(z=1) * p(y,\\theta)} = \\frac{p(y,\\theta|z) * \\frac{1}{n}}{p(y,\\theta|z=1) * \\frac{1}{n}} = \\frac{p(y|\\theta,z) * p(\\theta|z)}{p(y|\\theta,z=1) * p(\\theta|z=1)} = \\frac{p(y|\\theta,z) * p(\\theta)}{p(y|\\theta,z=1) * p(\\theta)} = = \\frac{p(y|\\theta,z)}{p(y|\\theta,z=1)}.\n",
    "\\end{equation}\n",
    "We also used the fact that the change point is distributed uniformely and the distribution of $\\theta$ does not depend on $z$. If we use the formulas from the first question, we deduce the following formula:\n",
    "\\begin{equation}\n",
    "    R(z) = \\frac{\\prod_{i=1}^{z-1} p(y_i|\\theta_1,z) \\prod_{i=z}^n p(y_i|\\theta_2,z)}{\\prod_{i=1}^n p(y_i|\\theta_2,z=1)} = \\prod_{i=1}^{z-1}\\frac{p(y_i|\\theta_1,z)}{p(y_i|\\theta_2,z=1)}\n",
    "\\end{equation}\n",
    "where we use the fact that $p(y_i|\\theta_2,z) = p(y_i|\\theta_2,z=1) = \\theta_2^{y_i} (1 - \\theta_2)^{1 - y_i}$ for all $i \\geq z$.\n",
    "\n",
    "Question 4\n",
    "--------\n",
    "We also can deduce a relationship between $R(z) = \\prod_{i=1}^{z-1}\\frac{p(y_i|\\theta_1,z)}{p(y_i|\\theta_2,z=1)}$ and $R(z-1) = \\prod_{i=1}^{z-2}\\frac{p(y_i|\\theta_1,z)}{p(y_i|\\theta_2,z=1)}$ for all $z = 2, \\ldots, n$ as following:\n",
    "\\begin{equation}\n",
    "    R(z) = R(z-1) \\frac{p(y_{z-1}|\\theta_1,z)}{p(y_{z-1}|\\theta_2,z=1)}.\n",
    "\\end{equation}\n",
    "As it can be seen, computation of all $R(z)$ can be done in $O(n)$ steps. Once computed $R(z)$ for all $z = 1, \\ldots, n$, we can deduce $p(z|y)$ for all $z = 1, \\ldots, n$ using the straightforward formula:"
   ]
  },
  {
   "cell_type": "code",
   "execution_count": 5,
   "metadata": {
    "collapsed": false
   },
   "outputs": [
    {
     "ename": "SyntaxError",
     "evalue": "invalid syntax (<ipython-input-5-827e0fe6e49c>, line 1)",
     "output_type": "error",
     "traceback": [
      "\u001b[0;36m  File \u001b[0;32m\"<ipython-input-5-827e0fe6e49c>\"\u001b[0;36m, line \u001b[0;32m1\u001b[0m\n\u001b[0;31m    <http://someurl>\u001b[0m\n\u001b[0m    ^\u001b[0m\n\u001b[0;31mSyntaxError\u001b[0m\u001b[0;31m:\u001b[0m invalid syntax\n"
     ]
    }
   ],
   "source": [
    "<http://someurl>\n",
    "\n",
    "<somebbob@example.com>"
   ]
  },
  {
   "cell_type": "code",
   "execution_count": null,
   "metadata": {
    "collapsed": true
   },
   "outputs": [],
   "source": []
  }
 ],
 "metadata": {
  "kernelspec": {
   "display_name": "Python 2",
   "language": "python",
   "name": "python2"
  },
  "language_info": {
   "codemirror_mode": {
    "name": "ipython",
    "version": 2
   },
   "file_extension": ".py",
   "mimetype": "text/x-python",
   "name": "python",
   "nbconvert_exporter": "python",
   "pygments_lexer": "ipython2",
   "version": "2.7.10"
  }
 },
 "nbformat": 4,
 "nbformat_minor": 1
}

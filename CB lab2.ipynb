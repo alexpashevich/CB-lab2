{
 "cells": [
  {
   "cell_type": "markdown",
   "metadata": {},
   "source": [
    "Background\n",
    "========\n",
    "Question 1\n",
    "--------"
   ]
  },
  {
   "cell_type": "markdown",
   "metadata": {},
   "source": [
    "Question 2\n",
    "--------"
   ]
  },
  {
   "cell_type": "markdown",
   "metadata": {
    "collapsed": true
   },
   "source": [
    "$\\DeclareMathOperator{\\E}{\\mathbb{E}}$\n",
    "\n",
    "Problem 1\n",
    "========\n",
    "Question 1\n",
    "--------\n",
    "The change point $z$ tells us the place where the parameter $\\theta$ of the distribution changes. Given the distribution for each $p(y_i|z,\\theta)$ we can deduce the following formula for the whole distribution first for the case $z = 1$:\n",
    "\\begin{equation}\n",
    "    p(y|z = 1, \\theta) = \\prod_{i=1}^n \\theta_2^{y_i} (1 - \\theta_2)^{1 - y_i}.\n",
    "\\end{equation}\n",
    "Here we assume that every position in the sequence is independent from the rest. For the case of any given $z > 1$ we can write the following:\n",
    "\\begin{equation}\n",
    "    p(y|z, \\theta) = \\prod_{i=1}^{z-1} \\theta_1^{y_i} (1 - \\theta_1)^{1 - y_i} \\prod_{i=z}^n \\theta_2^{y_i} (1 - \\theta_2)^{1 - y_i}.\n",
    "\\end{equation}"
   ]
  },
  {
   "cell_type": "markdown",
   "metadata": {},
   "source": [
    "Question 2\n",
    "--------\n",
    "If we take logarithm of the deduced expression, we get a formula where summation is used instead the product:\n",
    "\\begin{equation}\n",
    "    \\log{p(y|z, \\theta)} = \\log{\\theta_1} * \\sum_{i=1}^{z-1}y_i + \\log{(1 - \\theta_1)} * \\sum_{i=1}^{z-1}{1 - y_i} + \\log{\\theta_2} * \\sum_{i=z}^{n}y_i + \\log{(1 - \\theta_2)} * \\sum_{i=z}^{n}{1 - y_i} = \\log{\\theta_1} * \\sum_{i=1}^{z-1}y_i + \\log{(1 - \\theta_1)} * (z - 1 + \\sum_{i=1}^{z-1}y_i) + \\log{\\theta_2} * \\sum_{i=z}^{n}y_i + \\log{(1 - \\theta_2)} * (n - z + 1 + \\sum_{i=z}^{n}y_i).\n",
    "\\end{equation}\n",
    "The last equation is obtained using the fact the sum of ones and zeros equal to the number of positions in the sequence."
   ]
  },
  {
   "cell_type": "markdown",
   "metadata": {},
   "source": [
    "Question 3\n",
    "--------\n",
    "Using the definition of $R(z)$ from the document we can the Bayes formula and derive the following equation for $\\forall z = 2, \\ldots ,n$:\n",
    "\\begin{equation}\n",
    "    R(z) = \\frac{p(z|y,\\theta)}{p(z = 1|y,\\theta)} = \\frac{p(y|z,\\theta) * p(z|\\theta) * p(y|\\theta)}{p(y|z=1,\\theta) * p(z=1|\\theta) * p(y|\\theta)} = \\frac{p(y|z,\\theta) * \\frac{1}{n}}{p(y|z=1,\\theta) * \\frac{1}{n}} = \\frac{p(y|z,\\theta)}{p(y|z=1,\\theta)}.\n",
    "\\end{equation}\n",
    "We also used the fact that the change point is distributed uniformely. If we use the formulas from the first question, we deduce the following formula:\n",
    "\\begin{equation}\n",
    "    R(z) = \\frac{\\prod_{i=1}^{z-1} p(y_i|\\theta_1,z) \\prod_{i=z}^n p(y_i|\\theta_2,z)}{\\prod_{i=1}^n p(y_i|\\theta_2,z=1)} = \\prod_{i=1}^{z-1}\\frac{p(y_i|\\theta_1,z)}{p(y_i|\\theta_2,z=1)}\n",
    "\\end{equation}\n",
    "where we use the fact that $p(y_i|\\theta_2,z) = p(y_i|\\theta_2,z=1) = \\theta_2^{y_i} (1 - \\theta_2)^{1 - y_i}$ for all $i \\geq z$."
   ]
  },
  {
   "cell_type": "markdown",
   "metadata": {},
   "source": [
    "Question 4\n",
    "--------\n",
    "We also can deduce a relationship between $R(z) = \\prod_{i=1}^{z-1}\\frac{p(y_i|\\theta_1,z)}{p(y_i|\\theta_2,z=1)}$ and $R(z-1) = \\prod_{i=1}^{z-2}\\frac{p(y_i|\\theta_1,z)}{p(y_i|\\theta_2,z=1)}$ for all $z = 2, \\ldots, n$ as following:\n",
    "\\begin{equation}\n",
    "    R(z) = R(z-1) \\frac{p(y_{z-1}|\\theta_1,z)}{p(y_{z-1}|\\theta_2,z=1)} = R(z-1) (\\frac{\\theta_1}{\\theta_2})^{y_z} (\\frac{1-\\theta_1}{1-\\theta_2})^{1-y_z}\n",
    "\\end{equation}\n",
    "We also can see that:\n",
    "\\begin{equation}\n",
    "    R(1) = 1\n",
    "\\end{equation}\n",
    "At this point let us deduce an algorithm to efficiently compute $p(z|y)$. This can be done using the previously deduced formula for $R(z)$ and the fact that $z$ is assumed to be known and therefore $p(z|y) = p(z|y,\\theta)$:\n",
    "\\begin{equation}\n",
    "    p(z|y) = p(z|y,\\theta) = R(z) * p(z=1|y,\\theta)\n",
    "\\end{equation}\n",
    "Thus, $p(z|y)$ can be estimated up to a multiplicative constant which can be estimated using the fact that $p(z|y$ is probability and its sum equals to 1: $p(z=1|y,\\theta) = \\frac{1}{\\sum_{z=1}^{n} R(z)}$.\n",
    "As it can be seen, computation of all $R(z)$ can be done in $O(n)$ steps. Once computed $R(z)$ for all $z = 1, \\ldots, n$, we can deduce $p(z|y)$ for all $z = 1, \\ldots, n$ in $O(n)$ steps as well. This gives us the following algorithm:\n",
    "<img src=\"img/p1q4.png\" alt=\"Algorithm\" style=\"width: 300px;\"/>"
   ]
  },
  {
   "cell_type": "markdown",
   "metadata": {},
   "source": [
    "Question 5\n",
    "--------\n",
    "Let us evalute 4 quantities which will be needed for the final algorithm. Those quantities are:\n",
    "\\begin{equation}\n",
    "    E_1 = \\E(\\sum_{i=1}^{z-1}y_i|\\theta^0),\n",
    "\\end{equation}\n",
    "\\begin{equation}\n",
    "    E_2 = \\E(\\sum_{i=z}^{n}y_i|\\theta^0),\n",
    "\\end{equation}\n",
    "\\begin{equation}\n",
    "    E_3 = \\E(z - 1 - \\sum_{i=1}^{z-1}y_i|\\theta^0),\n",
    "\\end{equation}\n",
    "\\begin{equation}\n",
    "    E_4 = \\E(n - z + 1 - \\sum_{i=z}^{n}y_i|\\theta^0).\n",
    "\\end{equation}\n",
    "For fixed $z, \\theta^0$ we can compute the exact values of the sums:\n",
    "\\begin{equation}\n",
    "    \\sum_{i=1}^{z-1}y_i = (z-1)\\theta^0_1,\n",
    "\\end{equation}\n",
    "\\begin{equation}\n",
    "    \\sum_{i=z}^{n}y_i = (n - z + 1)\\theta^0_2.\n",
    "\\end{equation}\n",
    "Therefore to know the expected values we have to average over all possible values of $z$:\n",
    "\\begin{equation}\n",
    "    E_1 = \\E(\\sum_{i=1}^{z-1}y_i|\\theta^0) = \\theta^0_1*\\sum_{z=1}^n(z-1)p(z|y),\n",
    "\\end{equation}\n",
    "\\begin{equation}\n",
    "    E_2 = \\E(\\sum_{i=z}^{n}y_i|\\theta^0) = \\theta^0_2*\\sum_{z=1}^n(n-z+1)p(z|y) = \\theta^0_2*\\left(n - \\sum_{z=1}^n(z-1)p(z|y)\\right)\n",
    "\\end{equation}\n",
    "\\begin{equation}\n",
    "    E_3 = \\E(z - 1 - \\sum_{i=1}^{z-1}y_i|\\theta^0) = \\sum_{z=1}^n\\left(z-1 -\\theta^0_1*(z-1)\\right)p(z|y) = (1-\\theta^0_1) * \\sum_{z=1}^n(z-1)p(z|y),\n",
    "\\end{equation}\n",
    "\\begin{equation}\n",
    "    E_4 = \\E(n - z + 1 - \\sum_{i=z}^{n}y_i|\\theta^0) = \\sum_{z=1}^n\\left(n - z + 1 - (n-z+1) * \\theta^0_2 \\right)p(z|y) = (1-\\theta^0_2) * \\sum_{z=1}^n(n-z+1)p(z|y) = (1-\\theta^0_2) * \\left(n - \\sum_{z=1}^n(z-1)p(z|y)\\right).\n",
    "\\end{equation}\n",
    "Therefore to compute the exquations above, we need to compute $\\sum_{z=1}^n(z-1)p(z|y)$ which we can calculate inside the first for loop of the previous algorithm. The complexity of the whole algorithm will be $O(n)$."
   ]
  },
  {
   "cell_type": "markdown",
   "metadata": {},
   "source": [
    "$\\def\\t{\\theta}$\n",
    "$\\def\\z{j}$\n",
    "$\\def\\tt{{\\theta}^0}$\n",
    "\n",
    "Question 6\n",
    "-------\n",
    "To estimate the parameter $\\theta$, the Expecation-Maximization (EM) algorithm. We find\n",
    "\\begin{align}\n",
    "\tQ(\\theta, \\theta^0 ) &= \\E\\left[\\log(p(y,z \\mid \\theta)\\mid y,\\theta^0)\\right] \\\\\n",
    "    &= \\sum_{j = 1}^n \\log\\left(p(y,z = j \\mid \\theta)\\right) * p(z = j \\mid y,\\theta^0) \\\\\n",
    "    &= \\sum_{j = 1}^n \\left[\\log\\left(p(y \\mid z = j,\\theta)\\right) + \\log\\left(p(z = j \\mid \\theta\\right)\\right] * p(z = j \\mid y,\\theta^0) \\\\\n",
    "    &= \\sum_{j = 1}^n \\left[\\log\\left(p(y \\mid z = j,\\theta)\\right) + \\log{\\frac{1}{n}}\\right] * p(z = j \\mid y,\\theta^0) \\\\\n",
    "    &= \\sum_{j = 2}^n \\left[\\left(\\log{\\theta_1} * \\sum_{i=1}^{z-1}y_i + \\log{(1 - \\theta_1)} * (z - 1 + \\sum_{i=1}^{z-1}y_i) + \\log{\\theta_2} * \\sum_{i=z}^{n}y_i + \\log{(1 - \\theta_2)} * (n - z + 1 + \\sum_{i=z}^{n}y_i)\\right) + \\log{\\frac{1}{n}}\\right] * p(z = j \\mid y,\\theta^0) \\\\\n",
    "    &+ \\left(\\log{\\theta_2} * \\sum_{i=1}^n y_i + \\log{(1-\\theta_2)} * (n - \\sum_{i=1}^n y_i) + \\log{\\frac{1}{n}}\\right) * p(z = 1 \\mid y,\\theta^0),\n",
    "\\end{align}\n",
    "where we deduce (**remove?**) $p(z = j \\mid y,\\theta^0) = \\cfrac{ p(y \\mid z = j, \\theta^0) }{\\sum_{k=1}^n p(y \\mid z = k, \\theta^0)}$ using the Bayes formula and the fact that $p(y \\mid \\theta^0) = \\sum_{k=1}^n p(y \\mid z = k, \\theta^0) p (z = k \\mid \\theta^0)$.\n",
    "\n",
    "To maximize the provided function and make one step of the EM algorithm, we find derivatives of $Q(\\theta, \\theta^0)$ with respect to $\\theta = (\\theta_1,\\theta_2)$:\n",
    "\n",
    "\\begin{align}\n",
    "    \\cfrac{\\delta Q(\\t, \\tt )}{\\delta \\t_1} &= \\sum_{\\z = 2}^n  \\left( \\cfrac{1}{\\t_1} \\sum_{i=1}^{\\z-1}y_i - \\cfrac{1}{1-\\t_1}(\\z -1 -\\sum_{i=1}^{\\z-1}y_i )\\right) * p(z = \\z \\mid y,\\tt) \\\\\n",
    "    &= \\frac{1}{\\t_1(1-\\t_1)} \\sum_{\\z = 2}^n  \\left( (1-\\t_1) \\sum_{i=1}^{\\z-1}y_i - \\t_1 (\\z -1 -\\sum_{i=1}^{\\z-1}y_i) \\right) * p(z = \\z \\mid y,\\tt) \\\\\n",
    "   &= \\frac{1}{\\t_1(1-\\t_1)} \\left(\\sum_{\\z = 2}^n p(z = \\z \\mid y,\\tt) \\sum_{i=1}^{\\z-1}y_i - \\t_1\\sum_{\\z = 2}^n p(z = \\z \\mid y,\\tt)(\\z -1)\\right),\n",
    "\\end{align}\n",
    "\n",
    "\\begin{align}\n",
    "    \\cfrac{\\delta Q(\\t, \\tt )}{\\delta \\t_2} &= \\sum_{\\z = 1}^n \\left( \\cfrac{1}{\\t_2} \\sum_{i=\\z}^{n}y_i - \\cfrac{1}{1-\\t_2}(n - \\z +1 -\\sum_{i=\\z}^{n}y_i) \\right) * p(z = \\z \\mid y,\\tt) \\\\\n",
    "    &= \\frac{1}{\\t_2(1-\\t_2)} \\sum_{\\z = 1}^n  \\left( (1-\\t_2) \\sum_{i=\\z}^{n}y_i - \\t_2 (n - \\z +1 -\\sum_{i=\\z}^{n}y_i )\\right) * p(z = \\z \\mid y,\\tt) \\\\\n",
    "    &= \\frac{1}{\\t_2(1-\\t_2)} \\left( \\sum_{\\z = 1}^n p(z = \\z \\mid y,\\tt) \\sum_{i=\\z}^{n}y_i - \\t_2\\sum_{\\z = 1}^n p(z = \\z \\mid y,\\tt)(n- \\z + 1) \\right).\\\\\n",
    "\\end{align}\n",
    "\n",
    "If we solve $\\cfrac{\\delta Q(\\t, \\tt )}{\\delta \\t_1} = 0$ and $\\cfrac{\\delta Q(\\t, \\tt )}{\\delta \\t_2} = 0$, we obtain the formulas for the EM algorithm maximising $Q(\\t,\\tt)$:\n",
    "\\begin{equation}\n",
    "\\t_1 = \\cfrac{\\sum_{\\z = 2}^n p(z = \\z \\mid y,\\tt) \\sum_{i=1}^{\\z-1}y_i}{\\sum_{\\z = 2}^n p(z = \\z \\mid y,\\tt)(\\z -1)},\n",
    "\\end{equation}\n",
    "\\begin{equation}\n",
    "\\t_2 = \\cfrac{\\sum_{\\z = 1}^n p(z = \\z \\mid y,\\tt) \\sum_{i=\\z}^{n}y_i}{\\sum_{\\z = 1}^n p(z = \\z \\mid y,\\tt)(n -\\z +1)}.\n",
    "\\end{equation}\n",
    "This gives us the following algorithm where $\\epsilon$ is some predefined small constant:\n",
    "<img src=\"img/p1q6b.png\" alt=\"Algorithm\" style=\"width: 300px;\"/>"
   ]
  },
  {
   "cell_type": "markdown",
   "metadata": {},
   "source": [
    "Question 7\n",
    "-------\n",
    "To evalute the derived algorithm, we generate sequence of length 321 with some randomly chosen values of $\\theta$:\n",
    "```python\n",
    "generation with theta = (0.910192,0.234319), z = 52\n",
    "```\n",
    "Then we run the EM algorithm to estimate $\\theta$ and $z$. We use $\\epsilon = 0.0001$ and $L_2$ norm as a convergence criteria:\n",
    "```python\n",
    "iter 0, cur theta = (0.527564,0.376617)\n",
    "iter 1, cur theta = (0.831720,0.186754)\n",
    "iter 2, cur theta = (0.880847,0.185413)\n",
    "iter 3, cur theta = (0.881614,0.185544)\n",
    "estimated z = 52, theta = (0.881620,0.185547)\n",
    "```\n",
    "<img src=\"img/p1q7.png\" alt=\"Histogram\" style=\"width: 600px;\"/>\n",
    "As we can see, there is only one pick in the histogram which has value about 0.7. This means that our algorithm does good job and does not hesitate between neighboring values of $z$. The algorithm needed only 4 iterations to converge which takes a few fractions of second. However, values of the estimated $\\theta$ are not exactly true, however very close. This is the consequence of the finite size of the sequence and presenting noise. The bigger the sequence is, the better the law of big numbers works (and therefore the closer our estimation of the mathematical expectation) so the better our algorithm will work.\n",
    "\n",
    "We ran the algorithm a few more times and observed exactly the same behaviour. We do not provide histograms here as they look exactly the same as the previous one. A few runs with random $\\theta$ initializtion are provided below:\n",
    "```python\n",
    "iter 0, cur theta = (0.447207,0.625708)\n",
    "iter 1, cur theta = (0.298836,0.000157)\n",
    "iter 2, cur theta = (0.315317,0.014550)\n",
    "iter 3, cur theta = (0.319093,0.042511)\n",
    "iter 4, cur theta = (0.398426,0.102089)\n",
    "iter 5, cur theta = (0.522450,0.137815)\n",
    "iter 6, cur theta = (0.706709,0.174965)\n",
    "iter 7, cur theta = (0.873219,0.184871)\n",
    "iter 8, cur theta = (0.881541,0.185521)\n",
    "estimated z = 52, thetas = (0.881620,0.185546)\n",
    "```\n",
    "```python\n",
    "iter 0, cur theta = (0.734940,0.254173)\n",
    "iter 1, cur theta = (0.876291,0.185521)\n",
    "iter 2, cur theta = (0.881570,0.185532)\n",
    "estimated z = 52, thetas = (0.881620,0.185547)\n",
    "```\n",
    "This shows that the data is not too difficult to the method as during the whole history of observation it converged to the global maximum."
   ]
  },
  {
   "cell_type": "markdown",
   "metadata": {},
   "source": [
    "Question 8\n",
    "-------\n",
    "We have chosen the uniform distribution for $z$ as we have no prior knowledge about which $z$ is more probable than another. This approach increases the entropy of the distribution and is widely used in practice. However, if we have some knowledge about distribution of $z$, we would have to consider it while deducing the formulas. For example, the formula for $Q(\\theta, \\theta^0 )$ would change to the following:\n",
    "\\begin{align}\n",
    "    Q(\\theta, \\theta^0 ) &= \\E\\left[\\log(p(y,z \\mid \\theta)\\mid y,\\theta^0)\\right] \\\\\n",
    "    &= \\sum_{j = 1}^n \\log\\left(p(y,z = j \\mid \\theta)\\right) * p(z = j \\mid y,\\theta^0)) \\\\\n",
    "    &= \\sum_{j = 1}^n \\left[\\log\\left(p(y \\mid z = j,\\theta)\\right) + \\log\\left(p(z = j \\mid \\theta\\right)\\right] * p(z = j \\mid y,\\theta^0)),\n",
    "\\end{align}\n",
    "where $p(z = j \\mid y,\\theta^0) = \\cfrac{ p(y \\mid z = j, \\theta^0) p(z=j \\mid \\theta^0)}{\\sum_{k=1}^n p(y \\mid z = k, \\theta^0) p(z=k \\mid \\theta^0)}$."
   ]
  },
  {
   "cell_type": "code",
   "execution_count": 2,
   "metadata": {
    "collapsed": false,
    "scrolled": true
   },
   "outputs": [
    {
     "ename": "SyntaxError",
     "evalue": "invalid syntax (<ipython-input-2-c356bf9e135e>, line 1)",
     "output_type": "error",
     "traceback": [
      "\u001b[0;36m  File \u001b[0;32m\"<ipython-input-2-c356bf9e135e>\"\u001b[0;36m, line \u001b[0;32m1\u001b[0m\n\u001b[0;31m    <http://someurl>\u001b[0m\n\u001b[0m    ^\u001b[0m\n\u001b[0;31mSyntaxError\u001b[0m\u001b[0;31m:\u001b[0m invalid syntax\n"
     ]
    }
   ],
   "source": [
    ".<http://someurl>\n",
    "\n",
    "<somebbob@example.com>\n",
    "\n",
    "$\\theta^* = \\argmax_\\theta logp(y|z,\\theta)$"
   ]
  },
  {
   "cell_type": "markdown",
   "metadata": {
    "collapsed": true
   },
   "source": [
    "Problem 2\n",
    "========\n",
    "Question 1\n",
    "--------"
   ]
  },
  {
   "cell_type": "markdown",
   "metadata": {},
   "source": [
    "To begin, we consider $\\sigma^{2} = 1$, $p = \\frac{1}{2}$ and $z_i = \\{0, 1\\}$.\n",
    "\n",
    "We need to show, that $p(y_i, \\theta) = p(z_i = 1)p(y_i|z_i = 1, \\theta) + p(z_i = 0)p(y_i|z_i = 0, \\theta)$, where $p(z_i = 1) = p(z_i = 0) = \\frac{1}{2}$.\n",
    "\n",
    "By applying the formula of total probability,\n",
    "$p(y_i|\\theta) = p(y_i|\\theta, z_i = 1)p(z_i = 1) + p(y_i|\\theta, z_i = 0)p(z_i = 0) = \\frac{p(y_i|\\theta, z_i = 1) + p(y_i|\\theta, z_i = 0)}{2}$"
   ]
  },
  {
   "cell_type": "markdown",
   "metadata": {},
   "source": [
    "Question 2\n",
    "--------"
   ]
  },
  {
   "cell_type": "code",
   "execution_count": 3,
   "metadata": {
    "collapsed": false
   },
   "outputs": [],
   "source": [
    "import numpy as np\n",
    "import matplotlib.pyplot as plt \n",
    "\n",
    "a1 = 0.5\n",
    "a2 = 0.5\n",
    "m1 = 5\n",
    "m2 = -5\n",
    "sigma1 = 1\n",
    "sigma2 = 2\n",
    "N = 200\n",
    "values = []\n",
    "\n",
    "for i in range(N):\n",
    "    alpha = np.random.uniform(0, 1, 1)[0]\n",
    "    if (alpha < a1):\n",
    "        values.append(np.random.normal(m1, sigma1, 1)[0])\n",
    "    else:\n",
    "        values.append(np.random.normal(m2, sigma2, 1)[0])\n",
    "\n",
    "plt.xlim([-20, 20])\n",
    "plt.hist(values)\n",
    "plt.show()"
   ]
  },
  {
   "cell_type": "code",
   "execution_count": 8,
   "metadata": {
    "collapsed": false
   },
   "outputs": [
    {
     "data": {
      "image/png": "[encoded data removed]",
      "text/plain": [
       "<IPython.core.display.Image object>"
      ]
     },
     "execution_count": 8,
     "metadata": {},
     "output_type": "execute_result"
    }
   ],
   "source": [
    "from IPython.display import Image\n",
    "Image(\"figure_1.png\")"
   ]
  },
  {
   "cell_type": "markdown",
   "metadata": {},
   "source": [
    "Question 3\n",
    "--------"
   ]
  },
  {
   "cell_type": "markdown",
   "metadata": {},
   "source": [
    "Now we consider the unobserved vector $z = (z_1,...,z_n)$ where $z_i = \\{0, 1\\}$.\n",
    "We need to show that $logp(y, z|\\theta) = -\\frac{1}{2}\\sum_{i=1}^{n}(1 - z_i)(y_i - m_0)^2 + z_i(y_i - m_1)^2 + C_n$.\n",
    "\n",
    "We have got our sample $y = (y_1,...,y_n)$ where $y_i$ is i.i.d. random variables.\n",
    "\\begin{align}\n",
    "p(y, z|\\theta) = \\prod_{i = 1}^n p(y_i, z_i|\\theta) = \\prod_{i=1}^n p(y_i|z_i, \\theta)p(z_i) = \\prod_{i=1}^n N(y_i|m_i)p(z_i) = \\frac{exp(-\\frac{1}{2}\\sum_{i=1}^{n}(y_i - m_i)^2)}{(2\\sqrt{2\\pi})^n\\prod_{i=1}^n \\sigma_i}\n",
    "\\end{align}\n",
    "\n",
    "\\begin{align}\n",
    "log(p(y,z|\\theta)) = -\\frac{1}{2}\\sum_{i=1}^n(y_i - m_i)^2 - nlog(2\\sqrt{2\\pi}) - \\sum_{i=1}^n log(\\sigma_i) = -\\frac{1}{2}\\sum_{i=1}^n(y_i - m_i)^2 - nlog(2\\sqrt{2\\pi}) - C_n\n",
    "\\end{align}\n",
    "\n",
    "Now we assume that $z_i$ is binary so \n",
    "\n",
    "$log(p(y,z|\\theta)) = \\sum_{i=1}^n z_i(y_i - m_1)^2 + (1 - z_i)(y_i - m_0)^2 + C_n$"
   ]
  },
  {
   "cell_type": "markdown",
   "metadata": {},
   "source": [
    "Question 4\n",
    "--------"
   ]
  },
  {
   "cell_type": "markdown",
   "metadata": {},
   "source": [
    "Let $n_1 = \\sum_{i=1}^n z_i$ and $n_0 = n - n_1$.\n",
    "\n",
    "We need to show $L = log(p(y,z|\\theta))$ is maximized for $\\hat{m_1} = \\frac{1}{n_1}\\sum_{i=1}^{n}y_{i}z_{i}$ and $\\hat{m_0} = \\frac{1}{n_0}\\sum_{i=1}^n y_i(1 - z_i)$.\n",
    "\n",
    "First of all, needless to say, that maximum exists because our log-likelihood is concave function of ($m_0, m_1$).\n",
    "\n",
    "$L_{m_0}^{'} = \\sum_{i=1}^n (1 - z_i)(y_i - m_0) = 0$.\n",
    "\n",
    "$\\sum_{i=1}^n y_i - nm_{0} - \\sum_{i=1}^n z_i y_i + \\sum_{i=1}^n z_i m_0 = 0$\n",
    "\n",
    "$m_{0}(n_1 - n) + \\sum_{i=1}^n (1-z_{i})y_i = 0$\n",
    "\n",
    "$m_0 = \\frac{1}{n_0}\\sum_{i=1}^n (1-z_i)y_i$.\n",
    "\n",
    "Now with $m_1$:\n",
    "\n",
    "$L_{m_1}^{'} = \\sum_{i=1}^n z_i (y_i - m_1) = 0$\n",
    "\n",
    "$\\sum_{i=1}^n z_i(y_i - m_1) = 0$\n",
    "\n",
    "$\\sum_{i=1}^n z_i y_i - m_1 \\sum_{i=1}^n z_i = 0$\n",
    "\n",
    "$m_1 = \\frac{1}{n_1}\\sum_{i=1}^n z_i y_i$.\n",
    "\n",
    "We got the result for maximum because our function was a quadratic form of ($m_0, m_1$)."
   ]
  },
  {
   "cell_type": "markdown",
   "metadata": {},
   "source": [
    "Question 5\n",
    "--------"
   ]
  },
  {
   "cell_type": "markdown",
   "metadata": {},
   "source": [
    "We suppose $p(z_i = 1) = \\frac{1}{2}$.\n",
    "\n",
    "Needless to get the formula for $p(z_i = 1|y_i, \\theta^{0})$.\n",
    "\n",
    "Using Bayes rule, $p(z_i = 1|y_i, \\theta^{0}) = \\frac{p(y_i, \\theta^{0}|z_i = 1)p(z_i = 1)}{p(y_i, \\theta^{0})} = \\frac{\\frac{1}{2} exp(-\\frac{(y_i - m_{1}^0)^2}{2})}{\\frac{1}{2}exp(-\\frac{(y_i - m_{0}^0)^2}{2}) + \\frac{1}{2}exp(-\\frac{(y_i - m_{1}^0)^2}{2})}$"
   ]
  },
  {
   "cell_type": "markdown",
   "metadata": {},
   "source": [
    "Question 6\n",
    "--------"
   ]
  },
  {
   "cell_type": "markdown",
   "metadata": {},
   "source": [
    "$z_i <-> p(z_i = 1|y_i, \\theta^{0})$.\n",
    "\n",
    "We need to show that this corresponds to writing EM-algorithm for estimating $\\theta = (m_0, m_1)$.\n",
    "\n",
    "Let us remind the main result of EM-algorithm:\n",
    "\n",
    "\\begin{align}\n",
    "\\theta^{(t+1)} = argmax_{\\theta}(\\mathbf{E}_{z}[log(p(y, z|\\theta^{(t)}))|y, \\theta^{(t)}]\n",
    "\\end{align}\n",
    "\n",
    "Now we will search for maximum using Question 4:\n",
    "\n",
    "$\\frac{\\partial \\mathbf{E}_z[log(p(y, z|\\theta^{(t+1)}))|y, \\theta^{(t)}]}{\\partial m_0} = \\mathbf{E}_z[\\frac{\\partial log(p(y, z|\\theta^{(t+1)}))}{\\partial m_0}|y, \\theta^{(t)}] = \\sum_{i = 1}^n \\mathbf{E}_z[(1 - z_i|y, \\theta^{(t)}](y_i - m_0) = \\sum_{i = 1}^n p(z_i = 0|y, \\theta^{(t)})(y_i - m_0) = 0$.\n",
    "\n",
    "\\begin{align}\n",
    "-n_{0}m_{0} + \\sum_{i=1}^n y_i p(z_i = 0|y, \\theta^{(t)}) = 0\n",
    "\\end{align}\n",
    "\n",
    "\\begin{align}\n",
    "\\hat{m}_0^{(t+1)} = \\frac{\\sum_{i=1}^n y_i p(z_i = 0|y, \\theta^{(t)})}{n_0}\n",
    "\\end{align}\n",
    "\n",
    "Doing the same thing with $m_1$:\n",
    "\n",
    "\\begin{align}\n",
    "\\hat{m}_1^{(t+1)} = \\frac{1}{n_1}\\sum_{i=1}^n y_i(1 - p(z_i = 0|y, \\theta^{(t)})).\n",
    "\\end{align}"
   ]
  },
  {
   "cell_type": "markdown",
   "metadata": {},
   "source": [
    "Question 7\n",
    "--------"
   ]
  },
  {
   "cell_type": "markdown",
   "metadata": {},
   "source": [
    "We generated simulated data for known values $\\theta$ and $z$. After that evaluation of above EM-algorithm convergence was checked."
   ]
  },
  {
   "cell_type": "code",
   "execution_count": 38,
   "metadata": {
    "collapsed": false
   },
   "outputs": [
    {
     "data": {
      "text/html": [
       "<div>\n",
       "<table border=\"1\" class=\"dataframe\">\n",
       "  <thead>\n",
       "    <tr style=\"text-align: right;\">\n",
       "      <th></th>\n",
       "      <th>p_real</th>\n",
       "      <th>m0_real</th>\n",
       "      <th>m1_real</th>\n",
       "      <th>p_estimated</th>\n",
       "      <th>m0_estimated</th>\n",
       "      <th>m1_estimated</th>\n",
       "    </tr>\n",
       "  </thead>\n",
       "  <tbody>\n",
       "    <tr>\n",
       "      <th>0</th>\n",
       "      <td>0.20</td>\n",
       "      <td>1</td>\n",
       "      <td>-1</td>\n",
       "      <td>0.213</td>\n",
       "      <td>0.867</td>\n",
       "      <td>-1.090</td>\n",
       "    </tr>\n",
       "    <tr>\n",
       "      <th>1</th>\n",
       "      <td>0.33</td>\n",
       "      <td>2</td>\n",
       "      <td>-2</td>\n",
       "      <td>0.333</td>\n",
       "      <td>1.110</td>\n",
       "      <td>-2.572</td>\n",
       "    </tr>\n",
       "    <tr>\n",
       "      <th>2</th>\n",
       "      <td>0.50</td>\n",
       "      <td>3</td>\n",
       "      <td>-3</td>\n",
       "      <td>0.467</td>\n",
       "      <td>1.190</td>\n",
       "      <td>-4.822</td>\n",
       "    </tr>\n",
       "    <tr>\n",
       "      <th>3</th>\n",
       "      <td>0.66</td>\n",
       "      <td>4</td>\n",
       "      <td>-4</td>\n",
       "      <td>0.620</td>\n",
       "      <td>1.194</td>\n",
       "      <td>-9.025</td>\n",
       "    </tr>\n",
       "    <tr>\n",
       "      <th>4</th>\n",
       "      <td>0.75</td>\n",
       "      <td>5</td>\n",
       "      <td>-5</td>\n",
       "      <td>0.740</td>\n",
       "      <td>1.250</td>\n",
       "      <td>-16.487</td>\n",
       "    </tr>\n",
       "  </tbody>\n",
       "</table>\n",
       "</div>"
      ],
      "text/plain": [
       "   p_real  m0_real  m1_real  p_estimated  m0_estimated  m1_estimated\n",
       "0    0.20        1       -1        0.213         0.867        -1.090\n",
       "1    0.33        2       -2        0.333         1.110        -2.572\n",
       "2    0.50        3       -3        0.467         1.190        -4.822\n",
       "3    0.66        4       -4        0.620         1.194        -9.025\n",
       "4    0.75        5       -5        0.740         1.250       -16.487"
      ]
     },
     "execution_count": 38,
     "metadata": {},
     "output_type": "execute_result"
    }
   ],
   "source": [
    "import numpy as np\n",
    "import matplotlib.pyplot as plt \n",
    "from __future__ import division\n",
    "import pandas as pd\n",
    "\n",
    "w, h = 6, 5\n",
    "data = [[0 for x in range(w)] for y in range(h)] \n",
    "\n",
    "A = 0\n",
    "B = 0\n",
    "values = []\n",
    "z = []\n",
    "a0_list = [0.2, 0.33, 0.5, 0.66, 0.75] \n",
    "#a1 = 0.67\n",
    "sigma0 = 1\n",
    "sigma1 = 1\n",
    "m0_list = [1, 2, 3, 4, 5]\n",
    "m1_list = [-1, -2, -3, -4, -5]\n",
    "N = 150\n",
    "n0 = 0\n",
    "n1 = 0\n",
    "\n",
    "for j in range(5):\n",
    "    a0 = a0_list[j] \n",
    "    m0 = m0_list[j]\n",
    "    m1 = m1_list[j]\n",
    "    n0 = 0\n",
    "    n1 = 0\n",
    "    for i in range(N):\n",
    "        alpha = np.random.uniform(0, 1, 1)[0]\n",
    "        if (alpha < a0):\n",
    "            values.append(np.random.normal(m0, sigma0, 1)[0])\n",
    "            z.append(0)\n",
    "            n0 = n0 + 1\n",
    "        else:\n",
    "            values.append(np.random.normal(m1, sigma1, 1)[0])\n",
    "            n1 = n1 + 1\n",
    "            z.append(1)\n",
    "        A = A + (1 - z[i]) * values[i]\n",
    "        B = B + (z[i] * values[i])\n",
    "\n",
    "    m0_hat = A / n0\n",
    "    m1_hat = B / n1\n",
    "\n",
    "    data[j][0] = a0\n",
    "    data[j][1] = m0\n",
    "    data[j][2] = m1\n",
    "\n",
    "    data[j][3] = round(n0 / N, 3)\n",
    "    data[j][4] = round(m0_hat, 3)\n",
    "    data[j][5] = round(m1_hat, 3)\n",
    "\n",
    "df = pd.DataFrame(data = data)\n",
    "df.columns = ['p_real', 'm0_real', 'm1_real', 'p_estimated', 'm0_estimated', 'm1_estimated']\n",
    "df.head()"
   ]
  },
  {
   "cell_type": "markdown",
   "metadata": {},
   "source": [
    "Question 8\n",
    "--------"
   ]
  },
  {
   "cell_type": "markdown",
   "metadata": {},
   "source": [
    "Now we are extending EM-algorithm to the case where $\\sigma^2$ is unknown and $p$ is arbitrary.\n",
    "\n",
    "Firstly we extend EM when both subpopulations have the same unknown $\\sigma^2$.\n",
    "\n",
    "So $p(z_i = 1|y_i, \\theta^{0}) = \\frac{p(y_i|z_i = 1, \\theta^{0})p(z_i = 1)}{p(y_i|\\theta^{0})} = \\frac{exp(-\\frac{(y_i - m_1^{0})^2}{2\\sigma^2})}{exp(-\\frac{(y_i - m_0^{0})^2}{2\\sigma^2}) + exp(-\\frac{(y_i - m_1^{0})^2}{2\\sigma^2})}$\n",
    "\n",
    "And $log[p(y, z|\\theta)] = -\\sum_{i = 1}^n \\frac{(y_i - m_{z_i})^2}{2\\sigma^2} - \\sum_{i = 1}^n log(\\sigma) + C_n$.\n",
    "\n",
    "Then we need to calculate partial derivatives of $log[p(y, z|\\theta)]$.\n",
    "\n",
    "\\begin{align}\n",
    "\\frac{\\partial log(p(y, z|\\theta))}{\\partial m_0} = \\sum_{i = 1}^n \\frac{(1 - z_i)(y_i - m_0)}{\\sigma^2} = \\frac{\\sum_{i=1}^n y_i(1 - z_i) - m_0n_0}{\\sigma^2}\n",
    "\\end{align}\n",
    "\n",
    "\\begin{align}\n",
    "\\frac{\\partial log(p(y, z|\\theta))}{\\partial m_1} = \\sum_{i = 1}^n \\frac{z_i(y_i - m_1)}{\\sigma^2} = \\frac{\\sum_{i=1}^n y_i z_i - m_1 n_1}{\\sigma^2}\n",
    "\\end{align}\n",
    "\n",
    "\\begin{align}\n",
    "\\frac{\\partial log(p(y, z|\\theta))}{\\partial sigma^2} = \\frac{1}{2}\\sum_{i = 1}^n \\frac{(1 - z_i)(y_i - m_0)^2 + z_i(y_i - m_1)^2}{\\sigma^4} - \\sum_{i=1}^n \\frac{1}{2\\sigma^2}\n",
    "\\end{align}\n",
    "\n",
    "Then\n",
    "\n",
    "$\\frac{\\partial \\mathbf{E}_z(log(p(y, z|\\theta^{(t+1)}))|y, \\theta^{(t)})}{\\partial m_0} = 0$\n",
    "\n",
    "$\\frac{\\partial \\mathbf{E}_z(log(p(y, z|\\theta^{(t+1)}))|y, \\theta^{(t)})}{\\partial m_1} = 0$\n",
    "\n",
    "$\\frac{\\partial \\mathbf{E}_z(log(p(y, z|\\theta^{(t+1)}))|y, \\theta^{(t)})}{\\partial \\sigma^2} = 0$\n",
    "\n",
    "\n",
    "This gives us the result:\n",
    "\n",
    "\\begin{align}\n",
    "\\hat{m}_0^{(t+1)} = \\frac{1}{n_1}\\sum_{i=1}^n y_i(p(z_i = 1|y, \\theta^{(t)}))\n",
    "\\end{align}\n",
    "\n",
    "\\begin{align}\n",
    "\\hat{m}_1^{(t+1)} = \\frac{1}{n_0}\\sum_{i=1}^n y_i(1 - p(z_i = 1|y, \\theta^{(t)}))\n",
    "\\end{align}\n",
    "\n",
    "\\begin{align}\n",
    "\\hat{\\sigma^2}^{(t+1)} = \\frac{1}{n}\\sum_{i=1}^n [(1 - p(z_i = 1|y, \\theta^{(t)}))(y_i - m_0^{(t)})^2 + (p(z_i = 1|y, \\theta^{(t)}))(y_i - m_1^{(t)})^2]\n",
    "\\end{align}\n",
    "\n",
    "If $\\sigma_0 \\neq \\sigma_1$ and $p$ is arbitrary:\n",
    "\n",
    "\\begin{align}\n",
    "\\hat{\\sigma_{0}^2}^{(t+1)} = \\frac{1}{n_0}\\sum_{i=1}^n [(1 - p(z_i = 1|y, \\theta^{(t)}))(y_i - m_0)^2]\n",
    "\\end{align}\n",
    "\n",
    "\\begin{align}\n",
    "\\hat{\\sigma_{1}^2}^{(t+1)} = \\frac{1}{n_1}\\sum_{i=1}^n [(p(z_i = 1|y, \\theta^{(t)}))(y_i - m_1)^2]\n",
    "\\end{align}\n",
    "\n",
    "\\begin{align}\n",
    "\\hat{p}^{(t+1)} = \\frac{1}{n} [p(z_i = 1|y, \\theta^{(t)})]\n",
    "\\end{align}"
   ]
  },
  {
   "cell_type": "markdown",
   "metadata": {},
   "source": [
    "Question 9\n",
    "--------"
   ]
  },
  {
   "cell_type": "markdown",
   "metadata": {},
   "source": [
    "The data was downloaded."
   ]
  },
  {
   "cell_type": "markdown",
   "metadata": {},
   "source": [
    "Question 10\n",
    "--------"
   ]
  },
  {
   "cell_type": "markdown",
   "metadata": {},
   "source": [
    "In this question we evaluated the convergence of general EM algorithm applying the data from question 9. To do this we choosed several initial points $\\theta^{(0)}$ and using the princip of maximum log-likelihood took with the maximum value. So this point was $\\theta^{(0)}$ = $(p^{(0)}$, $m_{0}^{(0)}$, $m_{1}^{(0)}$, $\\sigma_{0}^{(0)}$, $\\sigma_{1}^{(0)}$) = $(0.4, -1, 0.5, 1, 1)$.\n",
    "\n",
    "We fed this initial point to our algorithm and it finished with $\\theta = (0.35, -0.7, 2.2, 0.8, 1.7)$.\n",
    "\n",
    "After that our task was to compute the matrix $p(z, y)_{k, j} = p(z_i = k|y_i = j)$\n",
    "\n",
    "For $k = 1$:\n",
    "\\begin{align}\n",
    "p(z_i = 1|y_i) = \\frac{\\frac{exp(-(y_i - m_1)^2)}{2\\sigma_{1}^2} p}{\\frac{exp(-(y_i - m_0)^2)}{2\\sigma_{0}^2}(1 - p) + \\frac{exp(-(y_i - m_1)^2)}{2\\sigma_{1}^2}p}\n",
    "\\end{align}\n",
    "\n",
    "After that we applied barplot function to our probability matrix."
   ]
  },
  {
   "cell_type": "code",
   "execution_count": 1,
   "metadata": {
    "collapsed": false
   },
   "outputs": [
    {
     "data": {
      "image/png": "[encoded data removed]",
      "text/plain": [
       "<IPython.core.display.Image object>"
      ]
     },
     "execution_count": 1,
     "metadata": {},
     "output_type": "execute_result"
    }
   ],
   "source": [
    "from IPython.display import Image\n",
    "Image(\"Rplot02.png\")"
   ]
  },
  {
   "cell_type": "markdown",
   "metadata": {},
   "source": [
    "Question 11\n",
    "--------"
   ]
  },
  {
   "cell_type": "markdown",
   "metadata": {},
   "source": [
    "In this question we installed Mclust package and tried to get BIC for different G (number of clusters). In the graph below we see that maximum of BIC is obtained when $G = 2$. Also we have got the result for parameters estimation $\\theta = (0.375, -0.84, 2.35, 0.8, 1.9)$ - we see that our and MClust results are quite similar."
   ]
  },
  {
   "cell_type": "code",
   "execution_count": 1,
   "metadata": {
    "collapsed": false
   },
   "outputs": [
    {
     "data": {
      "image/png": "[encoded data removed]",
      "text/plain": [
       "<IPython.core.display.Image object>"
      ]
     },
     "execution_count": 1,
     "metadata": {},
     "output_type": "execute_result"
    }
   ],
   "source": [
    "from IPython.display import Image\n",
    "Image(\"Rplot01.png\")"
   ]
  },
  {
   "cell_type": "markdown",
   "metadata": {},
   "source": [
    "Question 12\n",
    "--------"
   ]
  },
  {
   "cell_type": "markdown",
   "metadata": {},
   "source": [
    "The BIC (Bayes Information criteria) is used to get the most appropriate model among a set of models depending of parameters. The model with the lowest BIC is preferred and it is based on likelihood function. When we are trying to choose the best model we need to balance between bias and variance to avoid overfitting of model. Let's more formally define the BIC:\n",
    "\n",
    "Consider $X$ - our observed data, $\\hat{\\theta}$ - the parameter values that maximize the likelihood function, $k$ - number of parameters in $X$, $n$ - the number of data points.\n",
    "\\begin{align}\n",
    "BIC = -2ln(p(x|\\hat{\\theta})) + kln(n).\n",
    "\\end{align}\n",
    "\n",
    "Now let's discuss the BIC:\n",
    "\n",
    "If $p(x|\\hat{\\theta}))$ is close to 1, then the first part of formula is close to 0 and our choice of model is good. Otherwise, if $p(x|\\hat{\\theta})$ is close to 0, then $-2ln(p(x|\\hat{\\theta}))$ is close to $+\\infty$. If we consider the second part of the formula, then $BIC \\sim k$.\n",
    "\n",
    "So in order to choose the best model, researcher needs to pick the model with the lowest BIC score. Of course, there are some assumptions for using BIC:\n",
    "\n",
    "1) The sample size n should be much larger than k of parameters in model\n",
    "\n",
    "2) This criteria can't handle complex collections of models"
   ]
  },
  {
   "cell_type": "markdown",
   "metadata": {},
   "source": [
    "Challenge 2\n",
    "--------"
   ]
  },
  {
   "cell_type": "markdown",
   "metadata": {
    "collapsed": true
   },
   "source": [
    "The data consists of $509 \\times 11$ rows and columns. The objective of the challenge is to evaluate the number of clusters in the data set and assign a cluster label to each row.\n",
    "\n",
    "\n",
    "Firstly, we need to perform dimensionality reduction. To do this we will use singular value decomposition (SVD) of our data. What is the number of principal components we will take into account? The graph below shows how much information is contained in first $N$ eigenvalues of covariance matrix of our data."
   ]
  },
  {
   "cell_type": "code",
   "execution_count": 10,
   "metadata": {
    "collapsed": false
   },
   "outputs": [
    {
     "data": {
      "image/png": "[encoded data removed]",
      "text/plain": [
       "<IPython.core.display.Image object>"
      ]
     },
     "execution_count": 10,
     "metadata": {},
     "output_type": "execute_result"
    }
   ],
   "source": [
    "from IPython.display import Image\n",
    "Image(\"Rplot03.png\")"
   ]
  },
  {
   "cell_type": "markdown",
   "metadata": {},
   "source": [
    "As we see, the most informative is 1st and 2nd eifenvalues and the next big gap is between 7 and 8. So we need to take into account first 7 eigenvalues to represent our data.\n",
    "\n",
    "\n",
    "After that we will calculate new matrix of dimension $482 \\times 7$ and apply Mclust function to visulize BIC criteria for different number of clusters and models. The main trend in the graph below is that starting from 9th cluster BIC is decreasing so we will choose 9 as the number of clusters for the data."
   ]
  },
  {
   "cell_type": "code",
   "execution_count": 11,
   "metadata": {
    "collapsed": false
   },
   "outputs": [
    {
     "data": {
      "image/png": "[encoded data removed]",
      "text/plain": [
       "<IPython.core.display.Image object>"
      ]
     },
     "execution_count": 11,
     "metadata": {},
     "output_type": "execute_result"
    }
   ],
   "source": [
    "from IPython.display import Image\n",
    "Image(\"Rplot04.png\")"
   ]
  },
  {
   "cell_type": "markdown",
   "metadata": {},
   "source": [
    "At the end of the challenge we choose a model with the highest BIC - it is \"VVE\" and apply Mclust function with parameters $G = 9$ and $Model = VVE$ to the data and get the result for row clusters. "
   ]
  }
 ],
 "metadata": {
  "kernelspec": {
   "display_name": "Python 2",
   "language": "python",
   "name": "python2"
  },
  "language_info": {
   "codemirror_mode": {
    "name": "ipython",
    "version": 2
   },
   "file_extension": ".py",
   "mimetype": "text/x-python",
   "name": "python",
   "nbconvert_exporter": "python",
   "pygments_lexer": "ipython2",
   "version": "2.7.12"
  }
 },
 "nbformat": 4,
 "nbformat_minor": 1
}

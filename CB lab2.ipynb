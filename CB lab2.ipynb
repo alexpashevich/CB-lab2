{
 "cells": [
  {
   "cell_type": "markdown",
   "metadata": {},
   "source": [
    "Background\n",
    "========\n",
    "Question 1\n",
    "--------"
   ]
  },
  {
   "cell_type": "markdown",
   "metadata": {},
   "source": [
    "Question 2\n",
    "--------"
   ]
  },
  {
   "cell_type": "markdown",
   "metadata": {
    "collapsed": true
   },
   "source": [
    "$\\DeclareMathOperator{\\E}{\\mathbb{E}}$\n",
    "\n",
    "Problem 1\n",
    "========\n",
    "Question 1\n",
    "--------\n",
    "The change point $z$ tells us the place where the parameter $\\theta$ of the distribution changes. Given the distribution for each $p(y_i|z,\\theta)$ we can deduce the following formula for the whole distribution first for the case $z = 1$:\n",
    "\\begin{equation}\n",
    "    p(y|z = 1, \\theta) = \\prod_{i=1}^n \\theta_2^{y_i} (1 - \\theta_2)^{1 - y_i}.\n",
    "\\end{equation}\n",
    "Here we assume that every position in the sequence is independent from the rest. For the case of any given $z > 1$ we can write the following:\n",
    "\\begin{equation}\n",
    "    p(y|z, \\theta) = \\prod_{i=1}^{z-1} \\theta_1^{y_i} (1 - \\theta_1)^{1 - y_i} \\prod_{i=z}^n \\theta_2^{y_i} (1 - \\theta_2)^{1 - y_i}.\n",
    "\\end{equation}"
   ]
  },
  {
   "cell_type": "markdown",
   "metadata": {},
   "source": [
    "Question 2\n",
    "--------\n",
    "If we take logarithm of the deduced expression, we get a formula where summation is used instead the product:\n",
    "\\begin{equation}\n",
    "    \\log{p(y|z, \\theta)} = \\log{\\theta_1} * \\sum_{i=1}^{z-1}y_i + \\log{(1 - \\theta_1)} * \\sum_{i=1}^{z-1}{1 - y_i} + \\log{\\theta_2} * \\sum_{i=z}^{n}y_i + \\log{(1 - \\theta_2)} * \\sum_{i=z}^{n}{1 - y_i} = \\log{\\theta_1} * \\sum_{i=1}^{z-1}y_i + \\log{(1 - \\theta_1)} * (z - 1 + \\sum_{i=1}^{z-1}y_i) + \\log{\\theta_2} * \\sum_{i=z}^{n}y_i + \\log{(1 - \\theta_2)} * (n - z + 1 + \\sum_{i=z}^{n}y_i).\n",
    "\\end{equation}\n",
    "The last equation is obtained using the fact the sum of ones and zeros equal to the number of positions in the sequence."
   ]
  },
  {
   "cell_type": "markdown",
   "metadata": {},
   "source": [
    "Question 3\n",
    "--------\n",
    "Using the definition of $R(z)$ from the document we can the Bayes formula and derive the following equation for $\\forall z = 2, \\ldots ,n$:\n",
    "\\begin{equation}\n",
    "    R(z) = \\frac{p(z|y,\\theta)}{p(z = 1|y,\\theta)} = \\frac{p(y|z,\\theta) * p(z|\\theta) * p(y|\\theta)}{p(y|z=1,\\theta) * p(z=1|\\theta) * p(y|\\theta)} = \\frac{p(y|z,\\theta) * \\frac{1}{n}}{p(y|z=1,\\theta) * \\frac{1}{n}} = \\frac{p(y|z,\\theta)}{p(y|z=1,\\theta)}.\n",
    "\\end{equation}\n",
    "We also used the fact that the change point is distributed uniformely. If we use the formulas from the first question, we deduce the following formula:\n",
    "\\begin{equation}\n",
    "    R(z) = \\frac{\\prod_{i=1}^{z-1} p(y_i|\\theta_1,z) \\prod_{i=z}^n p(y_i|\\theta_2,z)}{\\prod_{i=1}^n p(y_i|\\theta_2,z=1)} = \\prod_{i=1}^{z-1}\\frac{p(y_i|\\theta_1,z)}{p(y_i|\\theta_2,z=1)}\n",
    "\\end{equation}\n",
    "where we use the fact that $p(y_i|\\theta_2,z) = p(y_i|\\theta_2,z=1) = \\theta_2^{y_i} (1 - \\theta_2)^{1 - y_i}$ for all $i \\geq z$."
   ]
  },
  {
   "cell_type": "markdown",
   "metadata": {},
   "source": [
    "Question 4\n",
    "--------\n",
    "We also can deduce a relationship between $R(z) = \\prod_{i=1}^{z-1}\\frac{p(y_i|\\theta_1,z)}{p(y_i|\\theta_2,z=1)}$ and $R(z-1) = \\prod_{i=1}^{z-2}\\frac{p(y_i|\\theta_1,z)}{p(y_i|\\theta_2,z=1)}$ for all $z = 2, \\ldots, n$ as following:\n",
    "\\begin{equation}\n",
    "    R(z) = R(z-1) \\frac{p(y_{z-1}|\\theta_1,z)}{p(y_{z-1}|\\theta_2,z=1)} = R(z-1) (\\frac{\\theta_1}{\\theta_2})^{y_z} (\\frac{1-\\theta_1}{1-\\theta_2})^{1-y_z}\n",
    "\\end{equation}\n",
    "We also can see that:\n",
    "\\begin{equation}\n",
    "    R(1) = 1\n",
    "\\end{equation}\n",
    "At this point let us deduce an algorithm to efficiently compute $p(z|y)$. This can be done using the previously deduced formula for $R(z)$ and the fact that $z$ is assumed to be known and therefore $p(z|y) = p(z|y,\\theta)$:\n",
    "\\begin{equation}\n",
    "    p(z|y) = p(z|y,\\theta) = R(z) * p(z=1|y,\\theta)\n",
    "\\end{equation}\n",
    "Thus, $p(z|y)$ can be estimated up to a multiplicative constant which can be estimated using the fact that $p(z|y$ is probability and its sum equals to 1: $p(z=1|y,\\theta) = \\frac{1}{\\sum_{z=1}^{n} R(z)}$.\n",
    "As it can be seen, computation of all $R(z)$ can be done in $O(n)$ steps. Once computed $R(z)$ for all $z = 1, \\ldots, n$, we can deduce $p(z|y)$ for all $z = 1, \\ldots, n$ in $O(n)$ steps as well. This gives us the following algorithm:\n",
    "<img src=\"img/p1q4.png\" alt=\"Algorithm\" style=\"width: 300px;\"/>"
   ]
  },
  {
   "cell_type": "markdown",
   "metadata": {},
   "source": [
    "Question 5\n",
    "--------\n",
    "Let us evalute 4 quantities which will be needed for the final algorithm. Those quantities are:\n",
    "\\begin{equation}\n",
    "    E_1 = \\E(\\sum_{i=1}^{z-1}y_i|\\theta^0),\n",
    "\\end{equation}\n",
    "\\begin{equation}\n",
    "    E_2 = \\E(\\sum_{i=z}^{n}y_i|\\theta^0),\n",
    "\\end{equation}\n",
    "\\begin{equation}\n",
    "    E_3 = \\E(z - 1 - \\sum_{i=1}^{z-1}y_i|\\theta^0),\n",
    "\\end{equation}\n",
    "\\begin{equation}\n",
    "    E_4 = \\E(n - z + 1 - \\sum_{i=z}^{n}y_i|\\theta^0).\n",
    "\\end{equation}\n",
    "For fixed $z, \\theta^0$ we can compute the exact values of the sums:\n",
    "\\begin{equation}\n",
    "    \\sum_{i=1}^{z-1}y_i = (z-1)\\theta^0_1,\n",
    "\\end{equation}\n",
    "\\begin{equation}\n",
    "    \\sum_{i=z}^{n}y_i = (n - z + 1)\\theta^0_2.\n",
    "\\end{equation}\n",
    "Therefore to know the expected values we have to average over all possible values of $z$:\n",
    "\\begin{equation}\n",
    "    E_1 = \\E(\\sum_{i=1}^{z-1}y_i|\\theta^0) = \\theta^0_1*\\sum_{z=1}^n(z-1)p(z|y),\n",
    "\\end{equation}\n",
    "\\begin{equation}\n",
    "    E_2 = \\E(\\sum_{i=z}^{n}y_i|\\theta^0) = \\theta^0_2*\\sum_{z=1}^n(n-z+1)p(z|y) = \\theta^0_2*\\left(n - \\sum_{z=1}^n(z-1)p(z|y)\\right)\n",
    "\\end{equation}\n",
    "\\begin{equation}\n",
    "    E_3 = \\E(z - 1 - \\sum_{i=1}^{z-1}y_i|\\theta^0) = \\sum_{z=1}^n\\left(z-1 -\\theta^0_1*(z-1)\\right)p(z|y) = (1-\\theta^0_1) * \\sum_{z=1}^n(z-1)p(z|y),\n",
    "\\end{equation}\n",
    "\\begin{equation}\n",
    "    E_4 = \\E(n - z + 1 - \\sum_{i=z}^{n}y_i|\\theta^0) = \\sum_{z=1}^n\\left(n - z + 1 - (n-z+1) * \\theta^0_2 \\right)p(z|y) = (1-\\theta^0_2) * \\sum_{z=1}^n(n-z+1)p(z|y) = (1-\\theta^0_2) * \\left(n - \\sum_{z=1}^n(z-1)p(z|y)\\right).\n",
    "\\end{equation}\n",
    "Therefore to compute the exquations above, we need to compute $\\sum_{z=1}^n(z-1)p(z|y)$ which we can calculate inside the first for loop of the previous algorithm. The complexity of the whole algorithm will be $O(n)$."
   ]
  },
  {
   "cell_type": "markdown",
   "metadata": {},
   "source": [
    "$\\def\\t{\\theta}$\n",
    "$\\def\\z{j}$\n",
    "$\\def\\tt{{\\theta}^0}$\n",
    "\n",
    "Question 6\n",
    "-------\n",
    "To estimate the parameter $\\theta$, the Expecation-Maximization (EM) algorithm. We find\n",
    "\\begin{align}\n",
    "\tQ(\\theta, \\theta^0 ) &= \\E\\left[\\log(p(y,z \\mid \\theta)\\mid y,\\theta^0)\\right] \\\\\n",
    "    &= \\sum_{j = 1}^n \\log\\left(p(y,z = j \\mid \\theta)\\right) * p(z = j \\mid y,\\theta^0)) \\\\\n",
    "    &= \\sum_{j = 1}^n \\left[\\log\\left(p(y \\mid z = j,\\theta)\\right) + \\log\\left(p(z = j \\mid \\theta\\right)\\right] * p(z = j \\mid y,\\theta^0)) \\\\\n",
    "    &= \\sum_{j = 1}^n \\left[\\log\\left(p(y \\mid z = j,\\theta)\\right) + \\log{\\frac{1}{n}}\\right] * p(z = j \\mid y,\\theta^0)),\n",
    "\\end{align}\n",
    "where we deduce $p(z = j \\mid y,\\theta^0) = \\cfrac{ p(y \\mid z = j, \\theta^0) }{\\sum_{k=1}^n p(y \\mid z = k, \\theta^0)}$ using the Bayes formula and the fact that $p(y \\mid \\theta^0) = \\sum_{k=1}^n p(y \\mid z = k, \\theta^0) p (z = k \\mid \\theta^0)$.\n",
    "\n",
    "To maximize the provided function and make one step of the EM algorithm, we find derivatives of $Q(\\theta, \\theta^0)$ with respect to $\\theta = (\\theta_1,\\theta_2)$:\n",
    "\n",
    "\\begin{align}\n",
    "    \\cfrac{\\delta Q(\\t, \\tt )}{\\delta \\t_1} &= \\sum_{\\z = 2}^n  \\left( \\cfrac{1}{\\t_1} \\sum_{i=1}^{\\z-1}y_i - \\cfrac{1}{1-\\t_1}(\\z -1 -\\sum_{i=1}^{\\z-1}y_i )\\right) * p(z = \\z \\mid y,\\tt) \\\\\n",
    "    &= \\frac{1}{\\t_1(1-\\t_1)} \\sum_{\\z = 2}^n  \\left( (1-\\t_1) \\sum_{i=1}^{\\z-1}y_i - \\t_1 (\\z -1 -\\sum_{i=1}^{\\z-1}y_i) \\right) * p(z = \\z \\mid y,\\tt) \\\\\n",
    "   &= \\frac{1}{\\t_1(1-\\t_1)} \\left(\\sum_{\\z = 2}^n p(z = \\z \\mid y,\\tt) \\sum_{i=1}^{\\z-1}y_i - \\t_1\\sum_{\\z = 2}^n p(z = \\z \\mid y,\\tt)(\\z -1)\\right),\n",
    "\\end{align}\n",
    "\n",
    "\\begin{align}\n",
    "    \\cfrac{\\delta Q(\\t, \\tt )}{\\delta \\t_2} &= \\sum_{\\z = 1}^n \\left( \\cfrac{1}{\\t_2} \\sum_{i=\\z}^{n}y_i - \\cfrac{1}{1-\\t_2}(n - \\z +1 -\\sum_{i=\\z}^{n}y_i) \\right) * p(z = \\z \\mid y,\\tt) \\\\\n",
    "    &= \\frac{1}{\\t_2(1-\\t_2)} \\sum_{\\z = 2}^n  \\left( (1-\\t_2) \\sum_{i=\\z}^{n}y_i - \\t_2 (n - \\z +1 -\\sum_{i=\\z}^{n}y_i )\\right) * p(z = \\z \\mid y,\\tt) \\\\\n",
    "    &= \\frac{1}{\\t_2(1-\\t_2)} \\left( \\sum_{\\z = 1}^n p(z = \\z \\mid y,\\tt) \\sum_{i=\\z}^{n}y_i - \\t_2\\sum_{\\z = 2}^n p(z = \\z \\mid y,\\tt)(n- \\z + 1) \\right).\\\\\n",
    "\\end{align}\n",
    "\n",
    "If we solve $\\cfrac{\\delta Q(\\t, \\tt )}{\\delta \\t_1} = 0$ and $\\cfrac{\\delta Q(\\t, \\tt )}{\\delta \\t_2} = 0$, we obtain the formulas for the EM algorithm maximising $Q(\\t,\\tt)$:\n",
    "\\begin{equation}\n",
    "\\t_1 = \\cfrac{\\sum_{\\z = 2}^n p(z = \\z \\mid y,\\tt) \\sum_{i=1}^{\\z-1}y_i}{\\sum_{\\z = 2}^n p(z = \\z \\mid y,\\tt)(\\z -1)},\n",
    "\\end{equation}\n",
    "\\begin{equation}\n",
    "\\t_2 = \\cfrac{\\sum_{\\z = 1}^n p(z = \\z \\mid y,\\tt) \\sum_{i=\\z}^{n}y_i}{\\sum_{\\z = 1}^n p(z = \\z \\mid y,\\tt)(n -\\z +1)}.\n",
    "\\end{equation}"
   ]
  },
  {
   "cell_type": "markdown",
   "metadata": {},
   "source": [
    "Question 7\n",
    "-------\n",
    "Write about results here"
   ]
  },
  {
   "cell_type": "markdown",
   "metadata": {},
   "source": [
    "Question 8\n",
    "-------\n",
    "We have chosen the uniform distribution for $z$ as we have no prior knowledge about which $z$ is more probable than another. This approach increases the entropy of the distribution and is widely used in practice. However, if we have some knowledge about distribution of $z$, we would have to consider it while deducing the formulas. For example, the formula for $Q(\\theta, \\theta^0 )$ would change to the following:\n",
    "\\begin{align}\n",
    "    Q(\\theta, \\theta^0 ) &= \\E\\left[\\log(p(y,z \\mid \\theta)\\mid y,\\theta^0)\\right] \\\\\n",
    "    &= \\sum_{j = 1}^n \\log\\left(p(y,z = j \\mid \\theta)\\right) * p(z = j \\mid y,\\theta^0)) \\\\\n",
    "    &= \\sum_{j = 1}^n \\left[\\log\\left(p(y \\mid z = j,\\theta)\\right) + \\log\\left(p(z = j \\mid \\theta\\right)\\right] * p(z = j \\mid y,\\theta^0)),\n",
    "\\end{align}\n",
    "where $p(z = j \\mid y,\\theta^0) = \\cfrac{ p(y \\mid z = j, \\theta^0) p(z=j \\mid \\theta^0)}{\\sum_{k=1}^n p(y \\mid z = k, \\theta^0) p(z=k \\mid \\theta^0)}$."
   ]
  },
  {
   "cell_type": "code",
   "execution_count": 2,
   "metadata": {
    "collapsed": false
   },
   "outputs": [
    {
     "ename": "SyntaxError",
     "evalue": "invalid syntax (<ipython-input-2-c356bf9e135e>, line 1)",
     "output_type": "error",
     "traceback": [
      "\u001b[0;36m  File \u001b[0;32m\"<ipython-input-2-c356bf9e135e>\"\u001b[0;36m, line \u001b[0;32m1\u001b[0m\n\u001b[0;31m    <http://someurl>\u001b[0m\n\u001b[0m    ^\u001b[0m\n\u001b[0;31mSyntaxError\u001b[0m\u001b[0;31m:\u001b[0m invalid syntax\n"
     ]
    }
   ],
   "source": [
    ".<http://someurl>\n",
    "\n",
    "<somebbob@example.com>\n",
    "\n",
    "$\\theta^* = \\argmax_\\theta logp(y|z,\\theta)$"
   ]
  },
  {
   "cell_type": "code",
   "execution_count": null,
   "metadata": {
    "collapsed": true
   },
   "outputs": [],
   "source": []
  }
 ],
 "metadata": {
  "kernelspec": {
   "display_name": "Python 2",
   "language": "python",
   "name": "python2"
  },
  "language_info": {
   "codemirror_mode": {
    "name": "ipython",
    "version": 2
   },
   "file_extension": ".py",
   "mimetype": "text/x-python",
   "name": "python",
   "nbconvert_exporter": "python",
   "pygments_lexer": "ipython2",
   "version": "2.7.10"
  }
 },
 "nbformat": 4,
 "nbformat_minor": 1
}
